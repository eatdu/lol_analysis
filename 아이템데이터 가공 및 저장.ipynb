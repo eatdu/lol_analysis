{
 "cells": [
  {
   "cell_type": "code",
   "execution_count": 2,
   "id": "fa4d9ebd",
   "metadata": {},
   "outputs": [],
   "source": [
    "import requests\n",
    "import json\n",
    "import pandas as pd\n",
    "import pickle\n",
    "import re\n",
    "from sqlalchemy import create_engine\n",
    "import pymysql"
   ]
  },
  {
   "cell_type": "markdown",
   "id": "6464056b",
   "metadata": {},
   "source": [
    "### 아이템 key리스트 받아오기"
   ]
  },
  {
   "cell_type": "code",
   "execution_count": 17,
   "id": "ed89aa76",
   "metadata": {},
   "outputs": [],
   "source": [
    "url = 'http://ddragon.leagueoflegends.com/cdn/12.19.1/data/ko_KR/item.json'\n",
    "datas = requests.get(url)\n",
    "datas = datas.json()\n",
    "keyList = datas['data'].keys()"
   ]
  },
  {
   "cell_type": "markdown",
   "id": "3860aa46",
   "metadata": {},
   "source": [
    "### 문자열 파싱함수"
   ]
  },
  {
   "cell_type": "code",
   "execution_count": 41,
   "id": "1f308b8a",
   "metadata": {},
   "outputs": [],
   "source": [
    "def rename(st):\n",
    "    st = st.replace('<br>','\\n')\n",
    "    txt = re.compile('(<([^>]+)>)')\n",
    "    result = txt.sub('',st)\n",
    "    result = result[:-1]\n",
    "    return result"
   ]
  },
  {
   "cell_type": "code",
   "execution_count": 49,
   "id": "4e1db152",
   "metadata": {},
   "outputs": [],
   "source": [
    "def rename2(st):\n",
    "    st = st.replace('<br>','\\n')\n",
    "    txt = re.compile('(<([^>]+)>)')\n",
    "    result = txt.sub('',st)\n",
    "    return result"
   ]
  },
  {
   "cell_type": "code",
   "execution_count": 50,
   "id": "ee0c4dc3",
   "metadata": {
    "scrolled": true
   },
   "outputs": [
    {
     "data": {
      "text/html": [
       "<div>\n",
       "<style scoped>\n",
       "    .dataframe tbody tr th:only-of-type {\n",
       "        vertical-align: middle;\n",
       "    }\n",
       "\n",
       "    .dataframe tbody tr th {\n",
       "        vertical-align: top;\n",
       "    }\n",
       "\n",
       "    .dataframe thead th {\n",
       "        text-align: right;\n",
       "    }\n",
       "</style>\n",
       "<table border=\"1\" class=\"dataframe\">\n",
       "  <thead>\n",
       "    <tr style=\"text-align: right;\">\n",
       "      <th></th>\n",
       "      <th>item_key</th>\n",
       "      <th>name</th>\n",
       "      <th>plaintext</th>\n",
       "      <th>itemDst</th>\n",
       "      <th>total</th>\n",
       "      <th>base</th>\n",
       "      <th>sell</th>\n",
       "      <th>icon</th>\n",
       "    </tr>\n",
       "  </thead>\n",
       "  <tbody>\n",
       "    <tr>\n",
       "      <th>0</th>\n",
       "      <td>1001</td>\n",
       "      <td>장화</td>\n",
       "      <td>이동 속도가 약간 증가합니다.</td>\n",
       "      <td>이동 속도 25</td>\n",
       "      <td>300</td>\n",
       "      <td>300</td>\n",
       "      <td>210</td>\n",
       "      <td>https://ddragon.leagueoflegends.com/cdn/12.19....</td>\n",
       "    </tr>\n",
       "    <tr>\n",
       "      <th>1</th>\n",
       "      <td>1004</td>\n",
       "      <td>요정의 부적</td>\n",
       "      <td>마나 재생량이 약간 증가합니다.</td>\n",
       "      <td>기본 마나 재생 50%</td>\n",
       "      <td>250</td>\n",
       "      <td>250</td>\n",
       "      <td>175</td>\n",
       "      <td>https://ddragon.leagueoflegends.com/cdn/12.19....</td>\n",
       "    </tr>\n",
       "    <tr>\n",
       "      <th>2</th>\n",
       "      <td>1006</td>\n",
       "      <td>원기 회복의 구슬</td>\n",
       "      <td>체력 재생량이 약간 증가합니다.</td>\n",
       "      <td>기본 체력 재생 100%</td>\n",
       "      <td>300</td>\n",
       "      <td>300</td>\n",
       "      <td>120</td>\n",
       "      <td>https://ddragon.leagueoflegends.com/cdn/12.19....</td>\n",
       "    </tr>\n",
       "    <tr>\n",
       "      <th>3</th>\n",
       "      <td>1011</td>\n",
       "      <td>거인의 허리띠</td>\n",
       "      <td>체력이 대폭 증가합니다.</td>\n",
       "      <td>체력 350</td>\n",
       "      <td>900</td>\n",
       "      <td>500</td>\n",
       "      <td>630</td>\n",
       "      <td>https://ddragon.leagueoflegends.com/cdn/12.19....</td>\n",
       "    </tr>\n",
       "    <tr>\n",
       "      <th>4</th>\n",
       "      <td>1018</td>\n",
       "      <td>민첩성의 망토</td>\n",
       "      <td>치명타 확률이 증가합니다.</td>\n",
       "      <td>치명타 확률 15%</td>\n",
       "      <td>600</td>\n",
       "      <td>600</td>\n",
       "      <td>420</td>\n",
       "      <td>https://ddragon.leagueoflegends.com/cdn/12.19....</td>\n",
       "    </tr>\n",
       "    <tr>\n",
       "      <th>...</th>\n",
       "      <td>...</td>\n",
       "      <td>...</td>\n",
       "      <td>...</td>\n",
       "      <td>...</td>\n",
       "      <td>...</td>\n",
       "      <td>...</td>\n",
       "      <td>...</td>\n",
       "      <td>...</td>\n",
       "    </tr>\n",
       "    <tr>\n",
       "      <th>249</th>\n",
       "      <td>7023</td>\n",
       "      <td>별의 균형</td>\n",
       "      <td></td>\n",
       "      <td>체력 400\\n스킬 가속 25\\n방어력 40\\n마법 저항력 40\\n광휘: 챔피언을 ...</td>\n",
       "      <td>2500</td>\n",
       "      <td>0</td>\n",
       "      <td>1750</td>\n",
       "      <td>https://ddragon.leagueoflegends.com/cdn/12.19....</td>\n",
       "    </tr>\n",
       "    <tr>\n",
       "      <th>250</th>\n",
       "      <td>7024</td>\n",
       "      <td>중단</td>\n",
       "      <td></td>\n",
       "      <td>주문력 90\\n체력 350\\n마나 800\\n스킬 가속 25\\n신성한 보호: 보호를 ...</td>\n",
       "      <td>2800</td>\n",
       "      <td>0</td>\n",
       "      <td>1960</td>\n",
       "      <td>https://ddragon.leagueoflegends.com/cdn/12.19....</td>\n",
       "    </tr>\n",
       "    <tr>\n",
       "      <th>251</th>\n",
       "      <td>7050</td>\n",
       "      <td>갱플랭크 Placeholder</td>\n",
       "      <td>새로운 갱플랭크 인터페이스 추가 예정!</td>\n",
       "      <td></td>\n",
       "      <td>0</td>\n",
       "      <td>0</td>\n",
       "      <td>0</td>\n",
       "      <td>https://ddragon.leagueoflegends.com/cdn/12.19....</td>\n",
       "    </tr>\n",
       "    <tr>\n",
       "      <th>252</th>\n",
       "      <td>8001</td>\n",
       "      <td>증오의 사슬</td>\n",
       "      <td></td>\n",
       "      <td>체력 650\\n스킬 가속 20\\n\\n사용 시 - 맹세: 피의 복수를 할 숙적을 선택...</td>\n",
       "      <td>2500</td>\n",
       "      <td>800</td>\n",
       "      <td>1750</td>\n",
       "      <td>https://ddragon.leagueoflegends.com/cdn/12.19....</td>\n",
       "    </tr>\n",
       "    <tr>\n",
       "      <th>253</th>\n",
       "      <td>8020</td>\n",
       "      <td>심연의 가면</td>\n",
       "      <td></td>\n",
       "      <td>체력 450\\n마법 저항력 35\\n스킬 가속 10\\n파괴: 주변 적 챔피언들에게 저...</td>\n",
       "      <td>2700</td>\n",
       "      <td>650</td>\n",
       "      <td>1890</td>\n",
       "      <td>https://ddragon.leagueoflegends.com/cdn/12.19....</td>\n",
       "    </tr>\n",
       "  </tbody>\n",
       "</table>\n",
       "<p>254 rows × 8 columns</p>\n",
       "</div>"
      ],
      "text/plain": [
       "    item_key              name              plaintext  \\\n",
       "0       1001                장화       이동 속도가 약간 증가합니다.   \n",
       "1       1004            요정의 부적      마나 재생량이 약간 증가합니다.   \n",
       "2       1006         원기 회복의 구슬      체력 재생량이 약간 증가합니다.   \n",
       "3       1011           거인의 허리띠          체력이 대폭 증가합니다.   \n",
       "4       1018           민첩성의 망토         치명타 확률이 증가합니다.   \n",
       "..       ...               ...                    ...   \n",
       "249     7023             별의 균형                          \n",
       "250     7024                중단                          \n",
       "251     7050  갱플랭크 Placeholder  새로운 갱플랭크 인터페이스 추가 예정!   \n",
       "252     8001            증오의 사슬                          \n",
       "253     8020            심연의 가면                          \n",
       "\n",
       "                                               itemDst  total  base  sell  \\\n",
       "0                                             이동 속도 25    300   300   210   \n",
       "1                                         기본 마나 재생 50%    250   250   175   \n",
       "2                                        기본 체력 재생 100%    300   300   120   \n",
       "3                                               체력 350    900   500   630   \n",
       "4                                           치명타 확률 15%    600   600   420   \n",
       "..                                                 ...    ...   ...   ...   \n",
       "249  체력 400\\n스킬 가속 25\\n방어력 40\\n마법 저항력 40\\n광휘: 챔피언을 ...   2500     0  1750   \n",
       "250  주문력 90\\n체력 350\\n마나 800\\n스킬 가속 25\\n신성한 보호: 보호를 ...   2800     0  1960   \n",
       "251                                                         0     0     0   \n",
       "252  체력 650\\n스킬 가속 20\\n\\n사용 시 - 맹세: 피의 복수를 할 숙적을 선택...   2500   800  1750   \n",
       "253  체력 450\\n마법 저항력 35\\n스킬 가속 10\\n파괴: 주변 적 챔피언들에게 저...   2700   650  1890   \n",
       "\n",
       "                                                  icon  \n",
       "0    https://ddragon.leagueoflegends.com/cdn/12.19....  \n",
       "1    https://ddragon.leagueoflegends.com/cdn/12.19....  \n",
       "2    https://ddragon.leagueoflegends.com/cdn/12.19....  \n",
       "3    https://ddragon.leagueoflegends.com/cdn/12.19....  \n",
       "4    https://ddragon.leagueoflegends.com/cdn/12.19....  \n",
       "..                                                 ...  \n",
       "249  https://ddragon.leagueoflegends.com/cdn/12.19....  \n",
       "250  https://ddragon.leagueoflegends.com/cdn/12.19....  \n",
       "251  https://ddragon.leagueoflegends.com/cdn/12.19....  \n",
       "252  https://ddragon.leagueoflegends.com/cdn/12.19....  \n",
       "253  https://ddragon.leagueoflegends.com/cdn/12.19....  \n",
       "\n",
       "[254 rows x 8 columns]"
      ]
     },
     "execution_count": 50,
     "metadata": {},
     "output_type": "execute_result"
    }
   ],
   "source": [
    "item = []\n",
    "for key in keyList:\n",
    "    item.append([key,rename2(datas['data'][key]['name']),datas['data'][key]['plaintext'],rename(datas['data'][key]['description'])\n",
    "         ,datas['data'][key]['gold']['total'],datas['data'][key]['gold']['base'],datas['data'][key]['gold']['sell']\n",
    "         ,'https://ddragon.leagueoflegends.com/cdn/12.19.1/img/item/'+datas['data'][key]['image']['full']])\n",
    "df = pd.DataFrame(item, columns=['item_key','name','plaintext','itemDst','total','base','sell','icon'])\n",
    "df"
   ]
  },
  {
   "cell_type": "code",
   "execution_count": 51,
   "id": "3aefd420",
   "metadata": {},
   "outputs": [
    {
     "data": {
      "text/plain": [
       "'가차없는 포격\\n바다뱀 은화 500닢'"
      ]
     },
     "execution_count": 51,
     "metadata": {},
     "output_type": "execute_result"
    }
   ],
   "source": [
    "df.loc[177,'name']"
   ]
  },
  {
   "cell_type": "markdown",
   "id": "341405f5",
   "metadata": {},
   "source": [
    "### DB에 저장하기"
   ]
  },
  {
   "cell_type": "code",
   "execution_count": 53,
   "id": "9956b0a7",
   "metadata": {},
   "outputs": [],
   "source": [
    "conn = pymysql.connect(host='3.36.255.55', user='root', password='root1234', db='lol_project', charset='utf8')\n",
    "engine = create_engine('mysql+pymysql://{user}:{pw}@{host}/{db}'.format(user='root',pw='root1234',db='lol_project',host='3.36.255.55'))\n",
    "conn = engine.connect()\n",
    "df.to_sql(name='item', con=engine ,if_exists='append',index=False)\n",
    "conn.close()"
   ]
  },
  {
   "cell_type": "markdown",
   "id": "d0f6c6e0",
   "metadata": {},
   "source": [
    "### 피클에 저장하기"
   ]
  },
  {
   "cell_type": "code",
   "execution_count": 54,
   "id": "4734d822",
   "metadata": {},
   "outputs": [],
   "source": [
    "with open('itemData.pickle','wb') as f:\n",
    "    pickle.dump(df,f)"
   ]
  }
 ],
 "metadata": {
  "kernelspec": {
   "display_name": "Python 3 (ipykernel)",
   "language": "python",
   "name": "python3"
  },
  "language_info": {
   "codemirror_mode": {
    "name": "ipython",
    "version": 3
   },
   "file_extension": ".py",
   "mimetype": "text/x-python",
   "name": "python",
   "nbconvert_exporter": "python",
   "pygments_lexer": "ipython3",
   "version": "3.9.12"
  }
 },
 "nbformat": 4,
 "nbformat_minor": 5
}
