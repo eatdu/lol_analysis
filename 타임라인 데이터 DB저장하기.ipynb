{
 "cells": [
  {
   "cell_type": "code",
   "execution_count": 1,
   "id": "f6763600",
   "metadata": {},
   "outputs": [],
   "source": [
    "import pymysql"
   ]
  },
  {
   "cell_type": "markdown",
   "id": "82790f52",
   "metadata": {},
   "source": [
    "### DB연결확인"
   ]
  },
  {
   "cell_type": "code",
   "execution_count": 2,
   "id": "2b1362b7",
   "metadata": {},
   "outputs": [
    {
     "data": {
      "text/plain": [
       "[{'no': 1,\n",
       "  'champion_key': 266,\n",
       "  'name': '아트록스',\n",
       "  'en_name': 'Aatrox',\n",
       "  'image': 'http://ddragon.leagueoflegends.com/cdn/12.19.1/img/champion/Aatrox.png'},\n",
       " {'no': 2,\n",
       "  'champion_key': 103,\n",
       "  'name': '아리',\n",
       "  'en_name': 'Ahri',\n",
       "  'image': 'http://ddragon.leagueoflegends.com/cdn/12.19.1/img/champion/Ahri.png'},\n",
       " {'no': 3,\n",
       "  'champion_key': 84,\n",
       "  'name': '아칼리',\n",
       "  'en_name': 'Akali',\n",
       "  'image': 'http://ddragon.leagueoflegends.com/cdn/12.19.1/img/champion/Akali.png'},\n",
       " {'no': 4,\n",
       "  'champion_key': 166,\n",
       "  'name': '아크샨',\n",
       "  'en_name': 'Akshan',\n",
       "  'image': 'http://ddragon.leagueoflegends.com/cdn/12.19.1/img/champion/Akshan.png'},\n",
       " {'no': 5,\n",
       "  'champion_key': 12,\n",
       "  'name': '알리스타',\n",
       "  'en_name': 'Alistar',\n",
       "  'image': 'http://ddragon.leagueoflegends.com/cdn/12.19.1/img/champion/Alistar.png'}]"
      ]
     },
     "execution_count": 2,
     "metadata": {},
     "output_type": "execute_result"
    }
   ],
   "source": [
    "conn = pymysql.connect(host='3.36.255.55', user='root', password='root1234', db='lol_project', charset='utf8')\n",
    "cur = conn.cursor(pymysql.cursors.DictCursor)\n",
    "cur.execute('select * from champion where no < 6')\n",
    "conn.close()\n",
    "result = cur.fetchall()\n",
    "result"
   ]
  },
  {
   "cell_type": "markdown",
   "id": "e90467ef",
   "metadata": {},
   "source": [
    "### 데이터 가져오기"
   ]
  },
  {
   "cell_type": "code",
   "execution_count": 3,
   "id": "bdb2a652",
   "metadata": {},
   "outputs": [],
   "source": [
    "import pickle"
   ]
  },
  {
   "cell_type": "code",
   "execution_count": 4,
   "id": "20264320",
   "metadata": {},
   "outputs": [],
   "source": [
    "with open('timelineData3','rb') as f:\n",
    "    timelineData3 = pickle.load(f)"
   ]
  },
  {
   "cell_type": "code",
   "execution_count": 5,
   "id": "54d7c52a",
   "metadata": {},
   "outputs": [
    {
     "data": {
      "text/html": [
       "<div>\n",
       "<style scoped>\n",
       "    .dataframe tbody tr th:only-of-type {\n",
       "        vertical-align: middle;\n",
       "    }\n",
       "\n",
       "    .dataframe tbody tr th {\n",
       "        vertical-align: top;\n",
       "    }\n",
       "\n",
       "    .dataframe thead th {\n",
       "        text-align: right;\n",
       "    }\n",
       "</style>\n",
       "<table border=\"1\" class=\"dataframe\">\n",
       "  <thead>\n",
       "    <tr style=\"text-align: right;\">\n",
       "      <th></th>\n",
       "      <th>gameId</th>\n",
       "      <th>realTimestamp</th>\n",
       "      <th>itemId</th>\n",
       "      <th>level</th>\n",
       "      <th>levelUpType</th>\n",
       "      <th>creatorId</th>\n",
       "      <th>participantId</th>\n",
       "      <th>timestamp</th>\n",
       "      <th>type</th>\n",
       "      <th>skillSlot</th>\n",
       "      <th>monsterType</th>\n",
       "      <th>wardType</th>\n",
       "      <th>killType</th>\n",
       "      <th>killerId</th>\n",
       "      <th>victimId</th>\n",
       "      <th>position_x</th>\n",
       "      <th>position_y</th>\n",
       "      <th>winningTeam</th>\n",
       "    </tr>\n",
       "  </thead>\n",
       "  <tbody>\n",
       "    <tr>\n",
       "      <th>0</th>\n",
       "      <td>6089244826</td>\n",
       "      <td>1661165618822</td>\n",
       "      <td>0</td>\n",
       "      <td>0</td>\n",
       "      <td>0</td>\n",
       "      <td>0</td>\n",
       "      <td>0</td>\n",
       "      <td>0</td>\n",
       "      <td>PAUSE_END</td>\n",
       "      <td>0</td>\n",
       "      <td>0</td>\n",
       "      <td>0</td>\n",
       "      <td>0</td>\n",
       "      <td>0</td>\n",
       "      <td>0</td>\n",
       "      <td>0</td>\n",
       "      <td>0</td>\n",
       "      <td>0</td>\n",
       "    </tr>\n",
       "    <tr>\n",
       "      <th>1</th>\n",
       "      <td>6089244826</td>\n",
       "      <td>0</td>\n",
       "      <td>1035</td>\n",
       "      <td>0</td>\n",
       "      <td>0</td>\n",
       "      <td>0</td>\n",
       "      <td>2</td>\n",
       "      <td>3489</td>\n",
       "      <td>ITEM_PURCHASED</td>\n",
       "      <td>0</td>\n",
       "      <td>0</td>\n",
       "      <td>0</td>\n",
       "      <td>0</td>\n",
       "      <td>0</td>\n",
       "      <td>0</td>\n",
       "      <td>0</td>\n",
       "      <td>0</td>\n",
       "      <td>0</td>\n",
       "    </tr>\n",
       "    <tr>\n",
       "      <th>2</th>\n",
       "      <td>6089244826</td>\n",
       "      <td>0</td>\n",
       "      <td>2031</td>\n",
       "      <td>0</td>\n",
       "      <td>0</td>\n",
       "      <td>0</td>\n",
       "      <td>2</td>\n",
       "      <td>3952</td>\n",
       "      <td>ITEM_PURCHASED</td>\n",
       "      <td>0</td>\n",
       "      <td>0</td>\n",
       "      <td>0</td>\n",
       "      <td>0</td>\n",
       "      <td>0</td>\n",
       "      <td>0</td>\n",
       "      <td>0</td>\n",
       "      <td>0</td>\n",
       "      <td>0</td>\n",
       "    </tr>\n",
       "    <tr>\n",
       "      <th>3</th>\n",
       "      <td>6089244826</td>\n",
       "      <td>0</td>\n",
       "      <td>3850</td>\n",
       "      <td>0</td>\n",
       "      <td>0</td>\n",
       "      <td>0</td>\n",
       "      <td>5</td>\n",
       "      <td>4844</td>\n",
       "      <td>ITEM_PURCHASED</td>\n",
       "      <td>0</td>\n",
       "      <td>0</td>\n",
       "      <td>0</td>\n",
       "      <td>0</td>\n",
       "      <td>0</td>\n",
       "      <td>0</td>\n",
       "      <td>0</td>\n",
       "      <td>0</td>\n",
       "      <td>0</td>\n",
       "    </tr>\n",
       "    <tr>\n",
       "      <th>4</th>\n",
       "      <td>6089244826</td>\n",
       "      <td>0</td>\n",
       "      <td>2003</td>\n",
       "      <td>0</td>\n",
       "      <td>0</td>\n",
       "      <td>0</td>\n",
       "      <td>5</td>\n",
       "      <td>5505</td>\n",
       "      <td>ITEM_PURCHASED</td>\n",
       "      <td>0</td>\n",
       "      <td>0</td>\n",
       "      <td>0</td>\n",
       "      <td>0</td>\n",
       "      <td>0</td>\n",
       "      <td>0</td>\n",
       "      <td>0</td>\n",
       "      <td>0</td>\n",
       "      <td>0</td>\n",
       "    </tr>\n",
       "  </tbody>\n",
       "</table>\n",
       "</div>"
      ],
      "text/plain": [
       "       gameId  realTimestamp  itemId  level levelUpType  creatorId  \\\n",
       "0  6089244826  1661165618822       0      0           0          0   \n",
       "1  6089244826              0    1035      0           0          0   \n",
       "2  6089244826              0    2031      0           0          0   \n",
       "3  6089244826              0    3850      0           0          0   \n",
       "4  6089244826              0    2003      0           0          0   \n",
       "\n",
       "   participantId  timestamp            type  skillSlot monsterType wardType  \\\n",
       "0              0          0       PAUSE_END          0           0        0   \n",
       "1              2       3489  ITEM_PURCHASED          0           0        0   \n",
       "2              2       3952  ITEM_PURCHASED          0           0        0   \n",
       "3              5       4844  ITEM_PURCHASED          0           0        0   \n",
       "4              5       5505  ITEM_PURCHASED          0           0        0   \n",
       "\n",
       "  killType  killerId  victimId  position_x  position_y  winningTeam  \n",
       "0        0         0         0           0           0            0  \n",
       "1        0         0         0           0           0            0  \n",
       "2        0         0         0           0           0            0  \n",
       "3        0         0         0           0           0            0  \n",
       "4        0         0         0           0           0            0  "
      ]
     },
     "execution_count": 5,
     "metadata": {},
     "output_type": "execute_result"
    }
   ],
   "source": [
    "timelineData3.head()"
   ]
  },
  {
   "cell_type": "code",
   "execution_count": 6,
   "id": "8cabe03a",
   "metadata": {},
   "outputs": [
    {
     "name": "stdout",
     "output_type": "stream",
     "text": [
      "<class 'pandas.core.frame.DataFrame'>\n",
      "RangeIndex: 9949339 entries, 0 to 9949338\n",
      "Data columns (total 18 columns):\n",
      " #   Column         Dtype \n",
      "---  ------         ----- \n",
      " 0   gameId         int64 \n",
      " 1   realTimestamp  int64 \n",
      " 2   itemId         int64 \n",
      " 3   level          int64 \n",
      " 4   levelUpType    object\n",
      " 5   creatorId      int64 \n",
      " 6   participantId  int64 \n",
      " 7   timestamp      int64 \n",
      " 8   type           object\n",
      " 9   skillSlot      int64 \n",
      " 10  monsterType    object\n",
      " 11  wardType       object\n",
      " 12  killType       object\n",
      " 13  killerId       int64 \n",
      " 14  victimId       int64 \n",
      " 15  position_x     int64 \n",
      " 16  position_y     int64 \n",
      " 17  winningTeam    int64 \n",
      "dtypes: int64(13), object(5)\n",
      "memory usage: 1.3+ GB\n"
     ]
    }
   ],
   "source": [
    "timelineData3.info()"
   ]
  },
  {
   "cell_type": "code",
   "execution_count": 11,
   "id": "afc8435e",
   "metadata": {},
   "outputs": [],
   "source": [
    "gameId=timelineData3['gameId'].values\n",
    "realTimestamp=timelineData3['realTimestamp'].values\n",
    "itemId=timelineData3['itemId'].values\n",
    "level=timelineData3['level'].values\n",
    "levelUpType=timelineData3['levelUpType'].values\n",
    "creatorId=timelineData3['creatorId'].values\n",
    "participantId=timelineData3['participantId'].values\n",
    "timestamp=timelineData3['timestamp'].values\n",
    "types=timelineData3['type'].values\n",
    "skillSlot=timelineData3['skillSlot'].values\n",
    "monsterType=timelineData3['monsterType'].values\n",
    "wardType=timelineData3['wardType'].values\n",
    "killType=timelineData3['killType'].values\n",
    "killerId=timelineData3['killerId'].values\n",
    "victimId=timelineData3['victimId'].values\n",
    "position_x=timelineData3['position_x'].values\n",
    "position_y=timelineData3['position_y'].values\n",
    "winningTeam=timelineData3['winningTeam'].values"
   ]
  },
  {
   "cell_type": "code",
   "execution_count": 31,
   "id": "bd7d7119",
   "metadata": {
    "collapsed": true
   },
   "outputs": [
    {
     "ename": "InterfaceError",
     "evalue": "(0, '')",
     "output_type": "error",
     "traceback": [
      "\u001b[1;31m---------------------------------------------------------------------------\u001b[0m",
      "\u001b[1;31mInterfaceError\u001b[0m                            Traceback (most recent call last)",
      "Input \u001b[1;32mIn [31]\u001b[0m, in \u001b[0;36m<cell line: 2>\u001b[1;34m()\u001b[0m\n\u001b[0;32m      3\u001b[0m     sql \u001b[38;5;241m=\u001b[39m \u001b[38;5;124m\"\"\"\u001b[39m\u001b[38;5;124minsert into timelineData (gameId,realTimestamp,itemId,level,levelUpType,creatorId,participantId,timestamp,type,skillSlot,monsterType,wardType,killType,killerId,victimId,position_x,position_y,winningTeam) values (\u001b[39m\u001b[38;5;132;01m%s\u001b[39;00m\u001b[38;5;124m,\u001b[39m\u001b[38;5;132;01m%s\u001b[39;00m\u001b[38;5;124m,\u001b[39m\u001b[38;5;132;01m%s\u001b[39;00m\u001b[38;5;124m,\u001b[39m\u001b[38;5;132;01m%s\u001b[39;00m\u001b[38;5;124m,\u001b[39m\u001b[38;5;132;01m%s\u001b[39;00m\u001b[38;5;124m,\u001b[39m\u001b[38;5;132;01m%s\u001b[39;00m\u001b[38;5;124m,\u001b[39m\u001b[38;5;132;01m%s\u001b[39;00m\u001b[38;5;124m,\u001b[39m\u001b[38;5;132;01m%s\u001b[39;00m\u001b[38;5;124m,\u001b[39m\u001b[38;5;132;01m%s\u001b[39;00m\u001b[38;5;124m,\u001b[39m\u001b[38;5;132;01m%s\u001b[39;00m\u001b[38;5;124m,\u001b[39m\u001b[38;5;132;01m%s\u001b[39;00m\u001b[38;5;124m,\u001b[39m\u001b[38;5;132;01m%s\u001b[39;00m\u001b[38;5;124m,\u001b[39m\u001b[38;5;132;01m%s\u001b[39;00m\u001b[38;5;124m,\u001b[39m\u001b[38;5;132;01m%s\u001b[39;00m\u001b[38;5;124m,\u001b[39m\u001b[38;5;132;01m%s\u001b[39;00m\u001b[38;5;124m,\u001b[39m\u001b[38;5;132;01m%s\u001b[39;00m\u001b[38;5;124m,\u001b[39m\u001b[38;5;132;01m%s\u001b[39;00m\u001b[38;5;124m,\u001b[39m\u001b[38;5;132;01m%s\u001b[39;00m\u001b[38;5;124m)\u001b[39m\u001b[38;5;124m\"\"\"\u001b[39m\n\u001b[0;32m      4\u001b[0m     val \u001b[38;5;241m=\u001b[39m (a,b,c,d,e,f,g,h,i,j,k,l,m,n,o,p,q,r)\n\u001b[1;32m----> 5\u001b[0m     \u001b[43mcur\u001b[49m\u001b[38;5;241;43m.\u001b[39;49m\u001b[43mexecute\u001b[49m\u001b[43m(\u001b[49m\u001b[43msql\u001b[49m\u001b[43m,\u001b[49m\u001b[43mval\u001b[49m\u001b[43m)\u001b[49m\n\u001b[0;32m      6\u001b[0m conn\u001b[38;5;241m.\u001b[39mcommit()\n\u001b[0;32m      7\u001b[0m conn\u001b[38;5;241m.\u001b[39mclose()\n",
      "File \u001b[1;32mD:\\kdigital\\anaconda3\\lib\\site-packages\\pymysql\\cursors.py:148\u001b[0m, in \u001b[0;36mCursor.execute\u001b[1;34m(self, query, args)\u001b[0m\n\u001b[0;32m    144\u001b[0m     \u001b[38;5;28;01mpass\u001b[39;00m\n\u001b[0;32m    146\u001b[0m query \u001b[38;5;241m=\u001b[39m \u001b[38;5;28mself\u001b[39m\u001b[38;5;241m.\u001b[39mmogrify(query, args)\n\u001b[1;32m--> 148\u001b[0m result \u001b[38;5;241m=\u001b[39m \u001b[38;5;28;43mself\u001b[39;49m\u001b[38;5;241;43m.\u001b[39;49m\u001b[43m_query\u001b[49m\u001b[43m(\u001b[49m\u001b[43mquery\u001b[49m\u001b[43m)\u001b[49m\n\u001b[0;32m    149\u001b[0m \u001b[38;5;28mself\u001b[39m\u001b[38;5;241m.\u001b[39m_executed \u001b[38;5;241m=\u001b[39m query\n\u001b[0;32m    150\u001b[0m \u001b[38;5;28;01mreturn\u001b[39;00m result\n",
      "File \u001b[1;32mD:\\kdigital\\anaconda3\\lib\\site-packages\\pymysql\\cursors.py:310\u001b[0m, in \u001b[0;36mCursor._query\u001b[1;34m(self, q)\u001b[0m\n\u001b[0;32m    308\u001b[0m \u001b[38;5;28mself\u001b[39m\u001b[38;5;241m.\u001b[39m_last_executed \u001b[38;5;241m=\u001b[39m q\n\u001b[0;32m    309\u001b[0m \u001b[38;5;28mself\u001b[39m\u001b[38;5;241m.\u001b[39m_clear_result()\n\u001b[1;32m--> 310\u001b[0m \u001b[43mconn\u001b[49m\u001b[38;5;241;43m.\u001b[39;49m\u001b[43mquery\u001b[49m\u001b[43m(\u001b[49m\u001b[43mq\u001b[49m\u001b[43m)\u001b[49m\n\u001b[0;32m    311\u001b[0m \u001b[38;5;28mself\u001b[39m\u001b[38;5;241m.\u001b[39m_do_get_result()\n\u001b[0;32m    312\u001b[0m \u001b[38;5;28;01mreturn\u001b[39;00m \u001b[38;5;28mself\u001b[39m\u001b[38;5;241m.\u001b[39mrowcount\n",
      "File \u001b[1;32mD:\\kdigital\\anaconda3\\lib\\site-packages\\pymysql\\connections.py:547\u001b[0m, in \u001b[0;36mConnection.query\u001b[1;34m(self, sql, unbuffered)\u001b[0m\n\u001b[0;32m    545\u001b[0m \u001b[38;5;28;01mif\u001b[39;00m \u001b[38;5;28misinstance\u001b[39m(sql, \u001b[38;5;28mstr\u001b[39m):\n\u001b[0;32m    546\u001b[0m     sql \u001b[38;5;241m=\u001b[39m sql\u001b[38;5;241m.\u001b[39mencode(\u001b[38;5;28mself\u001b[39m\u001b[38;5;241m.\u001b[39mencoding, \u001b[38;5;124m\"\u001b[39m\u001b[38;5;124msurrogateescape\u001b[39m\u001b[38;5;124m\"\u001b[39m)\n\u001b[1;32m--> 547\u001b[0m \u001b[38;5;28;43mself\u001b[39;49m\u001b[38;5;241;43m.\u001b[39;49m\u001b[43m_execute_command\u001b[49m\u001b[43m(\u001b[49m\u001b[43mCOMMAND\u001b[49m\u001b[38;5;241;43m.\u001b[39;49m\u001b[43mCOM_QUERY\u001b[49m\u001b[43m,\u001b[49m\u001b[43m \u001b[49m\u001b[43msql\u001b[49m\u001b[43m)\u001b[49m\n\u001b[0;32m    548\u001b[0m \u001b[38;5;28mself\u001b[39m\u001b[38;5;241m.\u001b[39m_affected_rows \u001b[38;5;241m=\u001b[39m \u001b[38;5;28mself\u001b[39m\u001b[38;5;241m.\u001b[39m_read_query_result(unbuffered\u001b[38;5;241m=\u001b[39munbuffered)\n\u001b[0;32m    549\u001b[0m \u001b[38;5;28;01mreturn\u001b[39;00m \u001b[38;5;28mself\u001b[39m\u001b[38;5;241m.\u001b[39m_affected_rows\n",
      "File \u001b[1;32mD:\\kdigital\\anaconda3\\lib\\site-packages\\pymysql\\connections.py:793\u001b[0m, in \u001b[0;36mConnection._execute_command\u001b[1;34m(self, command, sql)\u001b[0m\n\u001b[0;32m    788\u001b[0m \u001b[38;5;124;03m\"\"\"\u001b[39;00m\n\u001b[0;32m    789\u001b[0m \u001b[38;5;124;03m:raise InterfaceError: If the connection is closed.\u001b[39;00m\n\u001b[0;32m    790\u001b[0m \u001b[38;5;124;03m:raise ValueError: If no username was specified.\u001b[39;00m\n\u001b[0;32m    791\u001b[0m \u001b[38;5;124;03m\"\"\"\u001b[39;00m\n\u001b[0;32m    792\u001b[0m \u001b[38;5;28;01mif\u001b[39;00m \u001b[38;5;129;01mnot\u001b[39;00m \u001b[38;5;28mself\u001b[39m\u001b[38;5;241m.\u001b[39m_sock:\n\u001b[1;32m--> 793\u001b[0m     \u001b[38;5;28;01mraise\u001b[39;00m err\u001b[38;5;241m.\u001b[39mInterfaceError(\u001b[38;5;241m0\u001b[39m, \u001b[38;5;124m\"\u001b[39m\u001b[38;5;124m\"\u001b[39m)\n\u001b[0;32m    795\u001b[0m \u001b[38;5;66;03m# If the last query was unbuffered, make sure it finishes before\u001b[39;00m\n\u001b[0;32m    796\u001b[0m \u001b[38;5;66;03m# sending new commands\u001b[39;00m\n\u001b[0;32m    797\u001b[0m \u001b[38;5;28;01mif\u001b[39;00m \u001b[38;5;28mself\u001b[39m\u001b[38;5;241m.\u001b[39m_result \u001b[38;5;129;01mis\u001b[39;00m \u001b[38;5;129;01mnot\u001b[39;00m \u001b[38;5;28;01mNone\u001b[39;00m:\n",
      "\u001b[1;31mInterfaceError\u001b[0m: (0, '')"
     ]
    }
   ],
   "source": [
    "conn = pymysql.connect(host='3.36.255.55', user='root', password='root1234', db='lol_project', charset='utf8')\n",
    "for a,b,c,d,e,f,g,h,i,j,k,l,m,n,o,p,q,r in zip(gameId,realTimestamp,itemId,level,levelUpType,creatorId,participantId,timestamp,types,skillSlot,monsterType,wardType,killType,killerId,victimId,position_x,position_y,winningTeam):\n",
    "    sql = \"\"\"insert into timelineData (gameId,realTimestamp,itemId,level,levelUpType,creatorId,participantId,timestamp,type,skillSlot,monsterType,wardType,killType,killerId,victimId,position_x,position_y,winningTeam) values (%s,%s,%s,%s,%s,%s,%s,%s,%s,%s,%s,%s,%s,%s,%s,%s,%s,%s)\"\"\"\n",
    "    val = (a,b,c,d,e,f,g,h,i,j,k,l,m,n,o,p,q,r)\n",
    "    cur.execute(sql,val)\n",
    "conn.commit()\n",
    "conn.close()"
   ]
  }
 ],
 "metadata": {
  "kernelspec": {
   "display_name": "Python 3 (ipykernel)",
   "language": "python",
   "name": "python3"
  },
  "language_info": {
   "codemirror_mode": {
    "name": "ipython",
    "version": 3
   },
   "file_extension": ".py",
   "mimetype": "text/x-python",
   "name": "python",
   "nbconvert_exporter": "python",
   "pygments_lexer": "ipython3",
   "version": "3.9.12"
  }
 },
 "nbformat": 4,
 "nbformat_minor": 5
}
