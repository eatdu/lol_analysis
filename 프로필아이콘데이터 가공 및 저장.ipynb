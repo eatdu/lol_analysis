{
 "cells": [
  {
   "cell_type": "code",
   "execution_count": 2,
   "id": "979d68c0",
   "metadata": {},
   "outputs": [],
   "source": [
    "import requests\n",
    "import json\n",
    "import pandas as pd\n",
    "import pickle\n",
    "import re\n",
    "from sqlalchemy import create_engine\n",
    "import pymysql"
   ]
  },
  {
   "cell_type": "markdown",
   "id": "85bc99c5",
   "metadata": {},
   "source": [
    "### 프로필아이콘 데이터 받아오기"
   ]
  },
  {
   "cell_type": "code",
   "execution_count": 3,
   "id": "3af68b7a",
   "metadata": {},
   "outputs": [],
   "source": [
    "url = 'http://ddragon.leagueoflegends.com/cdn/12.19.1/data/ko_KR/profileicon.json'\n",
    "datas = requests.get(url)\n",
    "datas = datas.json()\n",
    "keyList = datas['data'].keys()"
   ]
  },
  {
   "cell_type": "code",
   "execution_count": 5,
   "id": "935b4fe9",
   "metadata": {},
   "outputs": [],
   "source": [
    "profileIcon = []\n",
    "for key in keyList:\n",
    "    profileIcon.append([datas['data'][key]['id'],'https://ddragon.leagueoflegends.com/cdn/12.19.1/img/profileicon/'+datas['data'][key]['image']['full']])\n",
    "df = pd.DataFrame(profileIcon, columns=['profile_key','icon'])"
   ]
  },
  {
   "cell_type": "markdown",
   "id": "341405f5",
   "metadata": {},
   "source": [
    "### DB에 저장하기"
   ]
  },
  {
   "cell_type": "code",
   "execution_count": 9,
   "id": "9956b0a7",
   "metadata": {},
   "outputs": [],
   "source": [
    "conn = pymysql.connect(host='3.36.255.55', user='root', password='root1234', db='lol_project', charset='utf8')\n",
    "engine = create_engine('mysql+pymysql://{user}:{pw}@{host}/{db}'.format(user='root',pw='root1234',db='lol_project',host='3.36.255.55'))\n",
    "conn = engine.connect()\n",
    "df.to_sql(name='profile', con=engine ,if_exists='append',index=False)\n",
    "conn.close()"
   ]
  },
  {
   "cell_type": "markdown",
   "id": "d0f6c6e0",
   "metadata": {},
   "source": [
    "### 피클에 저장하기"
   ]
  },
  {
   "cell_type": "code",
   "execution_count": 8,
   "id": "4734d822",
   "metadata": {},
   "outputs": [],
   "source": [
    "with open('profileIcon.pickle','wb') as f:\n",
    "    pickle.dump(df,f)"
   ]
  }
 ],
 "metadata": {
  "kernelspec": {
   "display_name": "Python 3 (ipykernel)",
   "language": "python",
   "name": "python3"
  },
  "language_info": {
   "codemirror_mode": {
    "name": "ipython",
    "version": 3
   },
   "file_extension": ".py",
   "mimetype": "text/x-python",
   "name": "python",
   "nbconvert_exporter": "python",
   "pygments_lexer": "ipython3",
   "version": "3.9.12"
  }
 },
 "nbformat": 4,
 "nbformat_minor": 5
}
