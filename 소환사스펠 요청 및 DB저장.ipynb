{
 "cells": [
  {
   "cell_type": "code",
   "execution_count": 1,
   "id": "c8d92513",
   "metadata": {},
   "outputs": [],
   "source": [
    "import requests\n",
    "import pickle\n",
    "import pandas as pd\n",
    "import pymysql\n",
    "import json"
   ]
  },
  {
   "cell_type": "markdown",
   "id": "45e682d1",
   "metadata": {},
   "source": [
    "### 소환사스펠 관련 데이터 요청"
   ]
  },
  {
   "cell_type": "code",
   "execution_count": 2,
   "id": "7483121c",
   "metadata": {},
   "outputs": [],
   "source": [
    "url = 'https://ddragon.leagueoflegends.com/cdn/12.19.1/data/ko_KR/summoner.json'\n",
    "datas = requests.get(url)\n",
    "datas = datas.json()"
   ]
  },
  {
   "cell_type": "markdown",
   "id": "bb29d17d",
   "metadata": {},
   "source": [
    "### 데이터 추출"
   ]
  },
  {
   "cell_type": "code",
   "execution_count": 18,
   "id": "8f8ff7d7",
   "metadata": {},
   "outputs": [],
   "source": [
    "spell = []\n",
    "SummonerBarrier = datas['data']['SummonerBarrier']\n",
    "SummonerBoost = datas['data']['SummonerBoost']\n",
    "SummonerDot = datas['data']['SummonerDot']\n",
    "SummonerExhaust = datas['data']['SummonerExhaust']\n",
    "SummonerHaste = datas['data']['SummonerHaste']\n",
    "SummonerHeal = datas['data']['SummonerHeal']\n",
    "SummonerSmite = datas['data']['SummonerSmite']\n",
    "SummonerTeleport = datas['data']['SummonerTeleport']\n",
    "SummonerFlash = datas['data']['SummonerFlash']\n",
    "spell.append([SummonerBarrier['key'],SummonerBarrier['name'],'https://ddragon.leagueoflegends.com/cdn/12.19.1/img/spell/'+SummonerBarrier['image']['full'],SummonerBarrier['cooldownBurn'],SummonerBarrier['description']])\n",
    "spell.append([SummonerBoost['key'],SummonerBoost['name'],'https://ddragon.leagueoflegends.com/cdn/12.19.1/img/spell/'+SummonerBoost['image']['full'],SummonerBoost['cooldownBurn'],SummonerBoost['description']])\n",
    "spell.append([SummonerDot['key'],SummonerDot['name'],'https://ddragon.leagueoflegends.com/cdn/12.19.1/img/spell/'+SummonerDot['image']['full'],SummonerDot['cooldownBurn'],SummonerDot['description']])\n",
    "spell.append([SummonerExhaust['key'],SummonerExhaust['name'],'https://ddragon.leagueoflegends.com/cdn/12.19.1/img/spell/'+SummonerExhaust['image']['full'],SummonerExhaust['cooldownBurn'],SummonerExhaust['description']])\n",
    "spell.append([SummonerHaste['key'],SummonerHaste['name'],'https://ddragon.leagueoflegends.com/cdn/12.19.1/img/spell/'+SummonerHaste['image']['full'],SummonerHaste['cooldownBurn'],SummonerHaste['description']])\n",
    "spell.append([SummonerHeal['key'],SummonerHeal['name'],'https://ddragon.leagueoflegends.com/cdn/12.19.1/img/spell/'+SummonerHeal['image']['full'],SummonerHeal['cooldownBurn'],SummonerHeal['description']])\n",
    "spell.append([SummonerSmite['key'],SummonerSmite['name'],'https://ddragon.leagueoflegends.com/cdn/12.19.1/img/spell/'+SummonerSmite['image']['full'],SummonerSmite['cooldownBurn'],SummonerSmite['description']])\n",
    "spell.append([SummonerTeleport['key'],SummonerTeleport['name'],'https://ddragon.leagueoflegends.com/cdn/12.19.1/img/spell/'+SummonerTeleport['image']['full'],SummonerTeleport['cooldownBurn'],SummonerTeleport['description']])\n",
    "spell.append([SummonerFlash['key'],SummonerFlash['name'],'https://ddragon.leagueoflegends.com/cdn/12.19.1/img/spell/'+SummonerFlash['image']['full'],SummonerFlash['cooldownBurn'],SummonerFlash['description']])\n",
    "spells = pd.DataFrame(spell, columns=['spell_key','name','image','cooldown','description'])\n",
    "seplls = spells[['name','spell_key','cooldown','image','description']]"
   ]
  },
  {
   "cell_type": "markdown",
   "id": "adc9836b",
   "metadata": {},
   "source": [
    "### 해당 데이터 프레임 pickle에 저장"
   ]
  },
  {
   "cell_type": "code",
   "execution_count": 19,
   "id": "b03c9da4",
   "metadata": {},
   "outputs": [],
   "source": [
    "with open('seplls.pickle','wb') as f:\n",
    "    pickle.dump(seplls,f)"
   ]
  },
  {
   "cell_type": "markdown",
   "id": "a301ba1c",
   "metadata": {},
   "source": [
    "### 데이터 확인"
   ]
  },
  {
   "cell_type": "code",
   "execution_count": 20,
   "id": "5ff307ef",
   "metadata": {},
   "outputs": [
    {
     "data": {
      "text/html": [
       "<div>\n",
       "<style scoped>\n",
       "    .dataframe tbody tr th:only-of-type {\n",
       "        vertical-align: middle;\n",
       "    }\n",
       "\n",
       "    .dataframe tbody tr th {\n",
       "        vertical-align: top;\n",
       "    }\n",
       "\n",
       "    .dataframe thead th {\n",
       "        text-align: right;\n",
       "    }\n",
       "</style>\n",
       "<table border=\"1\" class=\"dataframe\">\n",
       "  <thead>\n",
       "    <tr style=\"text-align: right;\">\n",
       "      <th></th>\n",
       "      <th>name</th>\n",
       "      <th>spell_key</th>\n",
       "      <th>cooldown</th>\n",
       "      <th>image</th>\n",
       "      <th>description</th>\n",
       "    </tr>\n",
       "  </thead>\n",
       "  <tbody>\n",
       "    <tr>\n",
       "      <th>0</th>\n",
       "      <td>방어막</td>\n",
       "      <td>21</td>\n",
       "      <td>180</td>\n",
       "      <td>https://ddragon.leagueoflegends.com/cdn/12.19....</td>\n",
       "      <td>2초 동안 방어막으로 감싸 피해를 105~411(챔피언 레벨에 따라 변동)만큼 흡수...</td>\n",
       "    </tr>\n",
       "    <tr>\n",
       "      <th>1</th>\n",
       "      <td>정화</td>\n",
       "      <td>1</td>\n",
       "      <td>210</td>\n",
       "      <td>https://ddragon.leagueoflegends.com/cdn/12.19....</td>\n",
       "      <td>챔피언에 걸린 모든 이동 불가와 (제압 및 공중으로 띄우는 효과 제외) 소환사 주문...</td>\n",
       "    </tr>\n",
       "    <tr>\n",
       "      <th>2</th>\n",
       "      <td>점화</td>\n",
       "      <td>14</td>\n",
       "      <td>180</td>\n",
       "      <td>https://ddragon.leagueoflegends.com/cdn/12.19....</td>\n",
       "      <td>적 챔피언을 불태워 5초 동안 70~410의 고정 피해(챔피언 레벨에 따라 변동)를...</td>\n",
       "    </tr>\n",
       "    <tr>\n",
       "      <th>3</th>\n",
       "      <td>탈진</td>\n",
       "      <td>3</td>\n",
       "      <td>210</td>\n",
       "      <td>https://ddragon.leagueoflegends.com/cdn/12.19....</td>\n",
       "      <td>적 챔피언을 지치게 만들어 3초 동안 이동 속도를 30% 느리게 하고 이 동안 가하...</td>\n",
       "    </tr>\n",
       "    <tr>\n",
       "      <th>4</th>\n",
       "      <td>유체화</td>\n",
       "      <td>6</td>\n",
       "      <td>210</td>\n",
       "      <td>https://ddragon.leagueoflegends.com/cdn/12.19....</td>\n",
       "      <td>챔피언이 10초 동안 유닛과 충돌하지 않게 되며 챔피언 레벨에 따라 이동 속도가 2...</td>\n",
       "    </tr>\n",
       "    <tr>\n",
       "      <th>5</th>\n",
       "      <td>회복</td>\n",
       "      <td>7</td>\n",
       "      <td>240</td>\n",
       "      <td>https://ddragon.leagueoflegends.com/cdn/12.19....</td>\n",
       "      <td>자신과 대상 아군 챔피언의 체력을 80~318만큼 (챔피언 레벨에 따라 변동) 회복...</td>\n",
       "    </tr>\n",
       "    <tr>\n",
       "      <th>6</th>\n",
       "      <td>강타</td>\n",
       "      <td>11</td>\n",
       "      <td>15</td>\n",
       "      <td>https://ddragon.leagueoflegends.com/cdn/12.19....</td>\n",
       "      <td>대상 에픽 및 대형/중형 몬스터 또는 미니언에게 450의 고정 피해를 입힙니다. 몬...</td>\n",
       "    </tr>\n",
       "    <tr>\n",
       "      <th>7</th>\n",
       "      <td>순간이동</td>\n",
       "      <td>12</td>\n",
       "      <td>360</td>\n",
       "      <td>https://ddragon.leagueoflegends.com/cdn/12.19....</td>\n",
       "      <td>4초 동안 정신을 집중한 다음, 대상으로 지정한 아군 구조물로 순간이동합니다. 14...</td>\n",
       "    </tr>\n",
       "    <tr>\n",
       "      <th>8</th>\n",
       "      <td>점멸</td>\n",
       "      <td>4</td>\n",
       "      <td>300</td>\n",
       "      <td>https://ddragon.leagueoflegends.com/cdn/12.19....</td>\n",
       "      <td>커서 방향으로 챔피언이 짧은 거리를 순간이동합니다.</td>\n",
       "    </tr>\n",
       "  </tbody>\n",
       "</table>\n",
       "</div>"
      ],
      "text/plain": [
       "   name spell_key cooldown                                              image  \\\n",
       "0   방어막        21      180  https://ddragon.leagueoflegends.com/cdn/12.19....   \n",
       "1    정화         1      210  https://ddragon.leagueoflegends.com/cdn/12.19....   \n",
       "2    점화        14      180  https://ddragon.leagueoflegends.com/cdn/12.19....   \n",
       "3    탈진         3      210  https://ddragon.leagueoflegends.com/cdn/12.19....   \n",
       "4   유체화         6      210  https://ddragon.leagueoflegends.com/cdn/12.19....   \n",
       "5    회복         7      240  https://ddragon.leagueoflegends.com/cdn/12.19....   \n",
       "6    강타        11       15  https://ddragon.leagueoflegends.com/cdn/12.19....   \n",
       "7  순간이동        12      360  https://ddragon.leagueoflegends.com/cdn/12.19....   \n",
       "8    점멸         4      300  https://ddragon.leagueoflegends.com/cdn/12.19....   \n",
       "\n",
       "                                         description  \n",
       "0  2초 동안 방어막으로 감싸 피해를 105~411(챔피언 레벨에 따라 변동)만큼 흡수...  \n",
       "1  챔피언에 걸린 모든 이동 불가와 (제압 및 공중으로 띄우는 효과 제외) 소환사 주문...  \n",
       "2  적 챔피언을 불태워 5초 동안 70~410의 고정 피해(챔피언 레벨에 따라 변동)를...  \n",
       "3  적 챔피언을 지치게 만들어 3초 동안 이동 속도를 30% 느리게 하고 이 동안 가하...  \n",
       "4  챔피언이 10초 동안 유닛과 충돌하지 않게 되며 챔피언 레벨에 따라 이동 속도가 2...  \n",
       "5  자신과 대상 아군 챔피언의 체력을 80~318만큼 (챔피언 레벨에 따라 변동) 회복...  \n",
       "6  대상 에픽 및 대형/중형 몬스터 또는 미니언에게 450의 고정 피해를 입힙니다. 몬...  \n",
       "7  4초 동안 정신을 집중한 다음, 대상으로 지정한 아군 구조물로 순간이동합니다. 14...  \n",
       "8                       커서 방향으로 챔피언이 짧은 거리를 순간이동합니다.  "
      ]
     },
     "execution_count": 20,
     "metadata": {},
     "output_type": "execute_result"
    }
   ],
   "source": [
    "seplls"
   ]
  },
  {
   "cell_type": "markdown",
   "id": "a3ad73c7",
   "metadata": {},
   "source": [
    "### DB에 데이터 저장"
   ]
  },
  {
   "cell_type": "code",
   "execution_count": 21,
   "id": "fb0188ca",
   "metadata": {},
   "outputs": [],
   "source": [
    "name = seplls['name'].values\n",
    "spell_key = seplls['spell_key'].values\n",
    "cooldown = seplls['cooldown'].values\n",
    "image = seplls['image'].values\n",
    "description = seplls['description'].values"
   ]
  },
  {
   "cell_type": "code",
   "execution_count": 22,
   "id": "a97b6cc0",
   "metadata": {},
   "outputs": [],
   "source": [
    "conn = pymysql.connect(host='3.36.255.55', user='root', password='root1234', db='lol_project', charset='utf8')\n",
    "cur = conn.cursor(pymysql.cursors.DictCursor)\n",
    "for a,b,c,d,e in zip(name,spell_key,cooldown,image,description):\n",
    "    sql = \"insert into spells (name,spell_key,cooldown,image,description) values (%s,%s,%s,%s,%s)\"\n",
    "    val = (a,b,c,d,e)\n",
    "    cur.execute(sql,val)\n",
    "conn.commit()\n",
    "conn.close()"
   ]
  }
 ],
 "metadata": {
  "kernelspec": {
   "display_name": "Python 3 (ipykernel)",
   "language": "python",
   "name": "python3"
  },
  "language_info": {
   "codemirror_mode": {
    "name": "ipython",
    "version": 3
   },
   "file_extension": ".py",
   "mimetype": "text/x-python",
   "name": "python",
   "nbconvert_exporter": "python",
   "pygments_lexer": "ipython3",
   "version": "3.9.12"
  }
 },
 "nbformat": 4,
 "nbformat_minor": 5
}
