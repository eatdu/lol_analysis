{
 "cells": [
  {
   "cell_type": "code",
   "execution_count": 1,
   "id": "4475932d",
   "metadata": {
    "scrolled": true
   },
   "outputs": [],
   "source": [
    "import pickle\n",
    "import pandas as pd\n",
    "import pymysql\n",
    "import json\n",
    "import time\n",
    "import requests\n",
    "from tqdm import tqdm"
   ]
  },
  {
   "cell_type": "markdown",
   "id": "cfe8ebdb",
   "metadata": {},
   "source": [
    "### DB에 저장된 플레이어 정보 조회"
   ]
  },
  {
   "cell_type": "code",
   "execution_count": 2,
   "id": "25a0f27a",
   "metadata": {},
   "outputs": [],
   "source": [
    "conn = pymysql.connect(host='3.36.255.55', user='recipe', password='root1234', db='lol_project', charset='utf8')\n",
    "cur = conn.cursor(pymysql.cursors.DictCursor)\n",
    "sql = 'select puuid from challenger'\n",
    "cur.execute(sql)\n",
    "row = cur.fetchall()\n",
    "conn.close()"
   ]
  },
  {
   "cell_type": "markdown",
   "id": "9155aeec",
   "metadata": {},
   "source": [
    "### 피클로 저장된 게임 데이터 조회"
   ]
  },
  {
   "cell_type": "code",
   "execution_count": 11,
   "id": "1ed56075",
   "metadata": {},
   "outputs": [],
   "source": [
    "with open('gameIdList.pickle','rb') as f:\n",
    "    gameIdList = pickle.load(f)"
   ]
  },
  {
   "cell_type": "markdown",
   "id": "a459d658",
   "metadata": {},
   "source": [
    "### 인게임 데이터 API를 통해 받아오기"
   ]
  },
  {
   "cell_type": "code",
   "execution_count": 13,
   "id": "75d9631a",
   "metadata": {},
   "outputs": [
    {
     "name": "stderr",
     "output_type": "stream",
     "text": [
      "100%|████████████████████████████████████████████████████████████████████████████| 2968/2968 [1:41:05<00:00,  2.04s/it]\n"
     ]
    },
    {
     "data": {
      "text/plain": [
       "2968"
      ]
     },
     "execution_count": 13,
     "metadata": {},
     "output_type": "execute_result"
    }
   ],
   "source": [
    "ingameList = []\n",
    "api_key = 'RGAPI-21575c8f-4a5e-4e6b-97b8-4d39f8344206'\n",
    "for gameId in tqdm(gameIdList):\n",
    "    url = 'https://asia.api.riotgames.com/lol/match/v5/matches/' + gameId + '?api_key=' + api_key\n",
    "    datas = requests.get(url)\n",
    "    datas = datas.json()\n",
    "    time.sleep(1.7)\n",
    "    ingameList.append(datas)\n",
    "len(ingameList)"
   ]
  },
  {
   "cell_type": "markdown",
   "id": "a88228bf",
   "metadata": {},
   "source": [
    "### API로 받아온 데이터 DB에 저장 할 형태로 정리하기"
   ]
  },
  {
   "cell_type": "code",
   "execution_count": 74,
   "id": "c0bb313d",
   "metadata": {},
   "outputs": [
    {
     "name": "stderr",
     "output_type": "stream",
     "text": [
      "100%|███████████████████████████████████████████████████████████████████████████| 2968/2968 [00:00<00:00, 10448.37it/s]\n"
     ]
    }
   ],
   "source": [
    "def wd(x):\n",
    "    if x == True:\n",
    "        return 1\n",
    "    else:\n",
    "        return 0\n",
    "inGameData, banList = [],[]\n",
    "for datas in tqdm(ingameList):\n",
    "    # 유저 개인당 인게임 데이터\n",
    "    for pip in datas['info']['participants']:\n",
    "        inGameData.append([datas['info']['gameId'],pip['kills'],pip['deaths'],pip['assists'],pip['champLevel'],pip['goldEarned'],pip['wardsKilled'],pip['wardsPlaced']\n",
    "                           ,pip['visionWardsBoughtInGame'],pip['totalMinionsKilled'] + pip['neutralMinionsKilled']\n",
    "                           ,pip['dragonKills'],pip['baronKills'],pip['turretKills'],pip['inhibitorKills']\n",
    "                           ,pip['totalDamageDealtToChampions'],pip['totalDamageTaken']\n",
    "                           ,pip['perks']['statPerks']['defense'],pip['perks']['statPerks']['flex'],pip['perks']['statPerks']['offense']\n",
    "                           ,pip['perks']['styles'][0]['style']\n",
    "                           ,pip['perks']['styles'][0]['selections'][0]['perk'],pip['perks']['styles'][0]['selections'][1]['perk']\n",
    "                           ,pip['perks']['styles'][0]['selections'][2]['perk'],pip['perks']['styles'][0]['selections'][3]['perk']\n",
    "                           ,pip['perks']['styles'][1]['style']\n",
    "                           ,pip['perks']['styles'][1]['selections'][0]['perk'],pip['perks']['styles'][1]['selections'][1]['perk']\n",
    "                           ,pip['item0'],pip['item1'],pip['item2'],pip['item3'],pip['item4'],pip['item5'],pip['item6']\n",
    "                           ,pip['summoner1Id'],pip['summoner2Id']\n",
    "                           ,pip['doubleKills'],pip['tripleKills'],pip['quadraKills'],pip['pentaKills']\n",
    "                           ,pip['championId'],pip['summonerName'],pip['teamId'],pip['puuid'],pip['teamPosition'],wd(pip['win'])\n",
    "                           ,datas['info']['gameDuration'],datas['info']['gameEndTimestamp']\n",
    "                           ])\n",
    "    for pip in datas['info']['teams']:\n",
    "        for i in pip['bans']:\n",
    "            banList.append(i['championId'])\n",
    "\n",
    "plist = []\n",
    "for gv,bv in zip(inGameData,banList):\n",
    "    gv.append(bv)\n",
    "    plist.append(bv)\n",
    "\n",
    "plist = pd.DataFrame(inGameData, columns=['gameId','kills','deaths','assists','champLevel','gainGold','wardsKilled','wardsPlaced'\n",
    "    ,'visionWards','cs','dragonKills','baronKills','turretKills','inhibitorKills','totalDamageDealt','totalDamageTaken'\n",
    "    ,'defenseStat','flexStat','offenseStat','mainPerk0','mainPerk1','mainPerk2','mainPerk3','mainPerk4','subPerk0','subPerk1','subPerk2'\n",
    "    ,'item0','item1','item2','item3','item4','item5','item6','summoner1Id','summoner2Id','doubleKills','tripleKills','quadraKills'\n",
    "    ,'pentaKills','championId','summonerName','teamId','puuid','teamPosition','win','gameDuration','gameEndTimestamp','ban'])"
   ]
  },
  {
   "cell_type": "markdown",
   "id": "261613e4",
   "metadata": {},
   "source": [
    "### 데이터 확인"
   ]
  },
  {
   "cell_type": "code",
   "execution_count": 61,
   "id": "dc091c70",
   "metadata": {},
   "outputs": [
    {
     "data": {
      "text/html": [
       "<div>\n",
       "<style scoped>\n",
       "    .dataframe tbody tr th:only-of-type {\n",
       "        vertical-align: middle;\n",
       "    }\n",
       "\n",
       "    .dataframe tbody tr th {\n",
       "        vertical-align: top;\n",
       "    }\n",
       "\n",
       "    .dataframe thead th {\n",
       "        text-align: right;\n",
       "    }\n",
       "</style>\n",
       "<table border=\"1\" class=\"dataframe\">\n",
       "  <thead>\n",
       "    <tr style=\"text-align: right;\">\n",
       "      <th></th>\n",
       "      <th>ban</th>\n",
       "    </tr>\n",
       "  </thead>\n",
       "  <tbody>\n",
       "    <tr>\n",
       "      <th>0</th>\n",
       "      <td>-1</td>\n",
       "    </tr>\n",
       "    <tr>\n",
       "      <th>1</th>\n",
       "      <td>-1</td>\n",
       "    </tr>\n",
       "    <tr>\n",
       "      <th>2</th>\n",
       "      <td>266</td>\n",
       "    </tr>\n",
       "    <tr>\n",
       "      <th>3</th>\n",
       "      <td>238</td>\n",
       "    </tr>\n",
       "    <tr>\n",
       "      <th>4</th>\n",
       "      <td>555</td>\n",
       "    </tr>\n",
       "    <tr>\n",
       "      <th>5</th>\n",
       "      <td>555</td>\n",
       "    </tr>\n",
       "    <tr>\n",
       "      <th>6</th>\n",
       "      <td>91</td>\n",
       "    </tr>\n",
       "    <tr>\n",
       "      <th>7</th>\n",
       "      <td>104</td>\n",
       "    </tr>\n",
       "    <tr>\n",
       "      <th>8</th>\n",
       "      <td>-1</td>\n",
       "    </tr>\n",
       "    <tr>\n",
       "      <th>9</th>\n",
       "      <td>-1</td>\n",
       "    </tr>\n",
       "  </tbody>\n",
       "</table>\n",
       "</div>"
      ],
      "text/plain": [
       "   ban\n",
       "0   -1\n",
       "1   -1\n",
       "2  266\n",
       "3  238\n",
       "4  555\n",
       "5  555\n",
       "6   91\n",
       "7  104\n",
       "8   -1\n",
       "9   -1"
      ]
     },
     "execution_count": 61,
     "metadata": {},
     "output_type": "execute_result"
    }
   ],
   "source": [
    "plist[plist['gameId']==6180162894][['ban']]"
   ]
  },
  {
   "cell_type": "code",
   "execution_count": 102,
   "id": "1ebd8782",
   "metadata": {
    "scrolled": true
   },
   "outputs": [
    {
     "data": {
      "text/plain": [
       "Index(['gameId', 'kills', 'deaths', 'assists', 'champLevel', 'gainGold',\n",
       "       'wardsKilled', 'wardsPlaced', 'visionWards', 'cs', 'dragonKills',\n",
       "       'baronKills', 'turretKills', 'inhibitorKills', 'totalDamageDealt',\n",
       "       'totalDamageTaken', 'defenseStat', 'flexStat', 'offenseStat',\n",
       "       'mainPerk0', 'mainPerk1', 'mainPerk2', 'mainPerk3', 'mainPerk4',\n",
       "       'subPerk0', 'subPerk1', 'subPerk2', 'item0', 'item1', 'item2', 'item3',\n",
       "       'item4', 'item5', 'item6', 'summoner1Id', 'summoner2Id', 'doubleKills',\n",
       "       'tripleKills', 'quadraKills', 'pentaKills', 'championId',\n",
       "       'summonerName', 'teamId', 'puuid', 'teamPosition', 'win',\n",
       "       'gameDuration', 'gameEndTimestamp', 'ban'],\n",
       "      dtype='object')"
      ]
     },
     "execution_count": 102,
     "metadata": {},
     "output_type": "execute_result"
    }
   ],
   "source": [
    "plist.columns"
   ]
  },
  {
   "cell_type": "markdown",
   "id": "1a92184b",
   "metadata": {},
   "source": [
    "### 데이터테이블 pickle에 저장하기"
   ]
  },
  {
   "cell_type": "code",
   "execution_count": 98,
   "id": "a7cdef73",
   "metadata": {},
   "outputs": [],
   "source": [
    "with open('inGameData.pickle','wb') as f:\n",
    "    pickle.dump(plist,f)"
   ]
  },
  {
   "cell_type": "markdown",
   "id": "7584b31f",
   "metadata": {},
   "source": [
    "### 정리된 데이터 DB에 저장하기"
   ]
  },
  {
   "cell_type": "code",
   "execution_count": 85,
   "id": "f9dbbdd9",
   "metadata": {},
   "outputs": [],
   "source": [
    "gameId = plist['gameId'].values\n",
    "kills = plist['kills'].values\n",
    "deaths = plist['deaths'].values\n",
    "assists = plist['assists'].values\n",
    "champLevel = plist['champLevel'].values\n",
    "gainGold = plist['gainGold'].values\n",
    "wardsKilled = plist['wardsKilled'].values\n",
    "wardsPlaced = plist['wardsPlaced'].values\n",
    "visionWards = plist['visionWards'].values\n",
    "cs = plist['cs'].values\n",
    "dragonKills = plist['dragonKills'].values\n",
    "baronKills = plist['baronKills'].values\n",
    "turretKills = plist['turretKills'].values\n",
    "inhibitorKills = plist['inhibitorKills'].values\n",
    "totalDamageDealt = plist['totalDamageDealt'].values\n",
    "totalDamageTaken = plist['totalDamageTaken'].values\n",
    "defenseStat = plist['defenseStat'].values\n",
    "flexStat = plist['flexStat'].values\n",
    "offenseStat = plist['offenseStat'].values\n",
    "mainPerk0 = plist['mainPerk0'].values\n",
    "mainPerk1 = plist['mainPerk1'].values\n",
    "mainPerk2 = plist['mainPerk2'].values\n",
    "mainPerk3 = plist['mainPerk3'].values\n",
    "mainPerk4 = plist['mainPerk4'].values\n",
    "subPerk0 = plist['subPerk0'].values\n",
    "subPerk1 = plist['subPerk1'].values\n",
    "subPerk2 = plist['subPerk2'].values\n",
    "item0 = plist['item0'].values\n",
    "item1 = plist['item1'].values\n",
    "item2 = plist['item2'].values\n",
    "item3 = plist['item3'].values\n",
    "item4 = plist['item4'].values\n",
    "item5 = plist['item5'].values\n",
    "item6 = plist['item6'].values\n",
    "summoner1Id = plist['summoner1Id'].values\n",
    "summoner2Id = plist['summoner2Id'].values\n",
    "doubleKills = plist['doubleKills'].values\n",
    "tripleKills = plist['tripleKills'].values\n",
    "quadraKills = plist['quadraKills'].values\n",
    "pentaKills = plist['pentaKills'].values\n",
    "championId = plist['championId'].values\n",
    "summonerName = plist['summonerName'].values\n",
    "teamId = plist['teamId'].values\n",
    "puuid = plist['puuid'].values\n",
    "teamPosition = plist['teamPosition'].values\n",
    "win = plist['win'].values\n",
    "gameDuration = plist['gameDuration'].values\n",
    "gameEndTimestamp = plist['gameEndTimestamp'].values\n",
    "ban = plist['ban'].values"
   ]
  },
  {
   "cell_type": "code",
   "execution_count": 97,
   "id": "49db318d",
   "metadata": {},
   "outputs": [],
   "source": [
    "conn = pymysql.connect(host='3.36.255.55', user='root', password='root1234', db='lol_project', charset='utf8')\n",
    "cur = conn.cursor(pymysql.cursors.DictCursor)\n",
    "for a,b,c,d,e,f,g,h,i,j,k,l,m,n,o,p,q,r,s,t,u,v,w,x,y,z,aa,bb,cc,dd,ee,ff,gg,hh,ii,jj,kk,ll,mm,nn,oo,pp,qq,rr,ss,tt,uu,vv,ww in zip(gameId,kills,deaths,assists,champLevel,gainGold,wardsKilled,wardsPlaced,visionWards,cs,dragonKills,baronKills,turretKills,inhibitorKills,totalDamageDealt,totalDamageTaken,defenseStat,flexStat,offenseStat,mainPerk0,mainPerk1,mainPerk2,mainPerk3,mainPerk4,subPerk0,subPerk1,subPerk2,item0,item1,item2,item3,item4,item5,item6,summoner1Id,summoner2Id,doubleKills,tripleKills,quadraKills,pentaKills,championId,summonerName,teamId,puuid,teamPosition,win,gameDuration,gameEndTimestamp,ban):\n",
    "    sql = \"insert into inGameData (gameId,kills,deaths,assists,champLevel,gainGold,wardsKilled,wardsPlaced,visionWards,cs,dragonKills,baronKills,turretKills,inhibitorKills,totalDamageDealt,totalDamageTaken,defenseStat,flexStat,offenseStat,mainPerk0,mainPerk1,mainPerk2,mainPerk3,mainPerk4,subPerk0,subPerk1,subPerk2,item0,item1,item2,item3,item4,item5,item6,summoner1Id,summoner2Id,doubleKills,tripleKills,quadraKills,pentaKills,championId,summonerName,teamId,puuid,teamPosition,win,gameDuration,gameEndTimestamp,ban) values (%s,%s,%s,%s,%s,%s,%s,%s,%s,%s,%s,%s,%s,%s,%s,%s,%s,%s,%s,%s,%s,%s,%s,%s,%s,%s,%s,%s,%s,%s,%s,%s,%s,%s,%s,%s,%s,%s,%s,%s,%s,%s,%s,%s,%s,%s,%s,%s,%s)\"\n",
    "    val = (a,b,c,d,e,f,g,h,i,j,k,l,m,n,o,p,q,r,s,t,u,v,w,x,y,z,aa,bb,cc,dd,ee,ff,gg,hh,ii,jj,kk,ll,mm,nn,oo,pp,qq,rr,ss,tt,uu,vv,ww)\n",
    "    cur.execute(sql,val)\n",
    "conn.commit()\n",
    "conn.close()"
   ]
  }
 ],
 "metadata": {
  "kernelspec": {
   "display_name": "Python 3 (ipykernel)",
   "language": "python",
   "name": "python3"
  },
  "language_info": {
   "codemirror_mode": {
    "name": "ipython",
    "version": 3
   },
   "file_extension": ".py",
   "mimetype": "text/x-python",
   "name": "python",
   "nbconvert_exporter": "python",
   "pygments_lexer": "ipython3",
   "version": "3.9.12"
  }
 },
 "nbformat": 4,
 "nbformat_minor": 5
}
